{
 "cells": [
  {
   "cell_type": "markdown",
   "metadata": {},
   "source": [
    "#### Azure-OnDemand\n",
    "\n",
    "\n",
    "##### 1. Use Azure portal to create a resource group and these resources under it:\n",
    "\n",
    "##### 2. Create running env:\n",
    " - define 2 env variables:\n",
    "```bash\n",
    "current_vm_Jupyter_port='8888'\n",
    "current_sibling_docker_env_file='not_shared/sibling_docker.env'\n",
    "```\n",
    "\n",
    " - Start Jupyter Notebook server in the running env docker ontainer, either via tmux:    \n",
    "```\n",
    "tmux new -s base_running_env ' \\\n",
    "current_vm_Jupyter_port='10002' && \\\n",
    "current_sibling_docker_env_file='not_shared/sibling_docker.env' && \\\n",
    "make vm_Jupyter_port=\"${current_vm_Jupyter_port}\" \\\n",
    "sibling_docker_env_file=\"${current_sibling_docker_env_file}\" \\\n",
    "jupyter-base-env'  \n",
    "```\n",
    "\n",
    "Next steps:\n",
    "    - run apps/devito/010_create_control_plane_docker_image.ipynb. Follow the Repro steps that require user input, including the one time az login sign in.  \n",
    "    - run the azhpc-Azure_OnDemand-devito docker image:  \n",
    "    \n",
    "```\n",
    "docker run -it \\\n",
    "--rm --name azure_ood_container01 \\\n",
    "-v /datadrive01/prj/Azure-OnDemand/apps/:/workspace:rw \\\n",
    "-v /usr/bin/docker:/usr/bin/docker \\\n",
    "-v /var/run/docker.sock:/var/run/docker.sock \\\n",
    "fwi01acr.azurecr.io/azure_ood:latest \\\n",
    "/bin/bash\n",
    "```"
   ]
  },
  {
   "cell_type": "code",
   "execution_count": null,
   "metadata": {},
   "outputs": [],
   "source": []
  }
 ],
 "metadata": {
  "kernelspec": {
   "display_name": "Python 3",
   "language": "python",
   "name": "python3"
  },
  "language_info": {
   "codemirror_mode": {
    "name": "ipython",
    "version": 3
   },
   "file_extension": ".py",
   "mimetype": "text/x-python",
   "name": "python",
   "nbconvert_exporter": "python",
   "pygments_lexer": "ipython3",
   "version": "3.7.7"
  }
 },
 "nbformat": 4,
 "nbformat_minor": 2
}
