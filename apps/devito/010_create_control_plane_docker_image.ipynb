{
 "cells": [
  {
   "cell_type": "markdown",
   "metadata": {},
   "source": [
    "### Azure Open-OnDemand Devito SLURM\n",
    "https://github.com/edwardsp/Azure-OnDemand\n",
    "\n",
    "Prerequisites:  \n",
    " - control_plane_ACR, for example [created via Azure Portal](https://docs.microsoft.com/en-us/azure/container-registry/container-registry-get-started-portal).\n",
    " \n",
    "Runing Environments - either a conda env or miniconda3 docker container:\n",
    "    - a conda env defined by /workspace/apps/devito/azure_ood_devito_conda_control_plane.yml\n",
    "    - a continuumio/miniconda3 docker container with a conda env based on above conda .yml file, in which case host dirs are defined by the apps/devito/not_shared/sibling_docker.env [dotenv](https://github.com/theskumar/python-dotenv) file (variable  DOCKER_CONTAINER_MOUNT_POINT).  \n",
    "    \n",
    "    \n",
    " <a id='user_input_requiring_steps'></a>\n",
    "Repro steps (require user input):\n",
    "   1. (Optional) [Edit config variables](#az_cli_variables) by editing the az cli .sh bash file in this notebook.\n",
    "   2. [Fill in and save](#dot_env_description) sensitive and configuration information using python code/variables.  \n",
    "   3. [Azure CLI login ](#Azure_cli_login) is required once in az_cli_docker_image\n",
    "   4. (Optional) [Edit](#az_cli_bash_script) Azure_ood resources names (driven by __prefix__) by editing the az cli .sh bash file in this notebook.\n"
   ]
  },
  {
   "cell_type": "code",
   "execution_count": 1,
   "metadata": {},
   "outputs": [],
   "source": [
    "# Allow multiple displays per cell\n",
    "from IPython.core.interactiveshell import InteractiveShell\n",
    "InteractiveShell.ast_node_interactivity = \"all\""
   ]
  },
  {
   "cell_type": "code",
   "execution_count": 2,
   "metadata": {},
   "outputs": [],
   "source": [
    "import sys, os, pathlib, shutil\n",
    "import platform,  dotenv\n",
    "import subprocess"
   ]
  },
  {
   "cell_type": "code",
   "execution_count": 3,
   "metadata": {},
   "outputs": [
    {
     "data": {
      "text/plain": [
       "'Linux-4.15.0-1091-azure-x86_64-with-debian-10.3'"
      ]
     },
     "execution_count": 3,
     "metadata": {},
     "output_type": "execute_result"
    },
    {
     "data": {
      "text/plain": [
       "'/workspace/apps/devito'"
      ]
     },
     "execution_count": 3,
     "metadata": {},
     "output_type": "execute_result"
    }
   ],
   "source": [
    "platform.platform()\n",
    "os.getcwd()"
   ]
  },
  {
   "cell_type": "markdown",
   "metadata": {},
   "source": [
    "<a id='az_cli_variables'></a>\n",
    "##### 1. Edit config variables saved in local_config_file below. \n",
    "__local_config_file__ is a configuration .env file that can be shell sourced, i,e, it does not contain python code.  \n",
    "Variables __azure_ood_resources_prefix__ and __azure_ood_dir__ control Azure resources names and local azure_ood directory. Changing them creates a distinct Azure resource sets.  \n",
    "  \n",
    "[Back](#user_input_requiring_steps) to list of repro steps."
   ]
  },
  {
   "cell_type": "code",
   "execution_count": 4,
   "metadata": {},
   "outputs": [],
   "source": [
    "local_config_file='_local_config.env'"
   ]
  },
  {
   "cell_type": "code",
   "execution_count": 5,
   "metadata": {},
   "outputs": [
    {
     "name": "stdout",
     "output_type": "stream",
     "text": [
      "Overwriting _local_config.env\n"
     ]
    }
   ],
   "source": [
    "%%writefile $local_config_file \n",
    "\n",
    "azure_ood_resources_prefix='ghiordanood01'\n",
    "azure_ood_dir_list=\".,azure_ood_temp_01\"\n",
    "\n",
    "not_shared_dir_list=\".,not_shared\"\n",
    "general_config_file=\"general.env\"\n",
    "sibling_docker_file=\"sibling_docker.env\"\n",
    "\n",
    "docker_files_dir=\"docker_files\"\n",
    "control_plane_docker_build_dir=\"control_plane_docker_build\"\n",
    "docker_build_no_cache=\"\"  # '--no-cache' # or '' #\n",
    "\n",
    "az_cli_container=\"signed_in_az_cli__container01\"\n",
    "signed_in_az_cli_image=\"signed_in_az_cli_image\"\n",
    "\n",
    "azure_ood_setup_resource_naming_script_file=\"azure_ood_setup_resource_naming.sh\"\n",
    "azure_ood_setup_script_step010_file=\"azure_ood_setup_step010.sh\"\n",
    "azure_ood_setup_script_step020_file=\"azure_ood_setup_step020.sh\"\n",
    "\n",
    "azure_ood_secrets_file=\"azure_ood_secrets.env\"\n",
    "azure_ood_resources_file=\"azure_resources.py\"\n",
    "\n",
    "\n",
    "use_ACR_and_dockerhub=1 # bool('False') is True"
   ]
  },
  {
   "cell_type": "code",
   "execution_count": 6,
   "metadata": {},
   "outputs": [
    {
     "data": {
      "text/plain": [
       "True"
      ]
     },
     "execution_count": 6,
     "metadata": {},
     "output_type": "execute_result"
    }
   ],
   "source": [
    "dotenv.load_dotenv(dotenv_path=local_config_file, override=True)\n",
    "\n",
    "not_shared_dir_list=os.getenv('not_shared_dir_list').split(\",\")\n",
    "DOTENV_FILE_PATH = not_shared_dir_list + [os.getenv('general_config_file')]\n",
    "SIBLING_DOCKER_DOTENV_FILE_PATH = not_shared_dir_list + [os.getenv('sibling_docker_file')]\n",
    "\n",
    "az_cli_container = os.getenv('az_cli_container')\n",
    "signed_in_az_cli_image = os.getenv('signed_in_az_cli_image')\n",
    "\n",
    "\n",
    "azure_ood_resources_prefix = os.getenv('azure_ood_resources_prefix')\n",
    "azure_ood_dir = os.path.join(*( os.getenv('azure_ood_dir_list').split(\",\")))\n",
    "azure_ood_setup_resource_naming_script =  os.path.join(*([azure_ood_dir] + [os.getenv('azure_ood_setup_resource_naming_script_file')]))\n",
    "azure_ood_setup_script_step010 = os.path.join(*([azure_ood_dir] + [os.getenv('azure_ood_setup_script_step010_file')] ))\n",
    "azure_ood_setup_script_step020 = os.path.join(*([azure_ood_dir] + [os.getenv('azure_ood_setup_script_step020_file')] ))\n",
    "\n",
    "azure_ood_secrets_file_dir = azure_ood_dir \n",
    "azure_ood_secrets_file = os.getenv('azure_ood_secrets_file')\n",
    "\n",
    "azure_ood_resources_file_dir = azure_ood_dir \n",
    "azure_ood_resources_file = os.getenv('azure_ood_resources_file')\n",
    "\n",
    "docker_files_dir = os.path.join(*([azure_ood_dir]+ [os.getenv('docker_files_dir')]))\n",
    "control_plane_docker_build_dir = os.getenv('control_plane_docker_build_dir')\n",
    "docker_build_no_cache = os.getenv('docker_build_no_cache')\n",
    "\n",
    "use_ACR_and_dockerhub = bool(int(os.getenv('use_ACR_and_dockerhub')))"
   ]
  },
  {
   "cell_type": "code",
   "execution_count": 7,
   "metadata": {},
   "outputs": [
    {
     "data": {
      "text/plain": [
       "'./azure_ood_temp_01'"
      ]
     },
     "execution_count": 7,
     "metadata": {},
     "output_type": "execute_result"
    }
   ],
   "source": [
    "os.makedirs(azure_ood_dir, exist_ok=True)\n",
    "azure_ood_dir"
   ]
  },
  {
   "cell_type": "code",
   "execution_count": 8,
   "metadata": {},
   "outputs": [
    {
     "data": {
      "text/plain": [
       "'./not_shared/general.env'"
      ]
     },
     "execution_count": 8,
     "metadata": {},
     "output_type": "execute_result"
    },
    {
     "data": {
      "text/plain": [
       "'./not_shared/sibling_docker.env'"
      ]
     },
     "execution_count": 8,
     "metadata": {},
     "output_type": "execute_result"
    },
    {
     "data": {
      "text/plain": [
       "'./azure_ood_temp_01/azure_ood_secrets.env'"
      ]
     },
     "execution_count": 8,
     "metadata": {},
     "output_type": "execute_result"
    }
   ],
   "source": [
    "def create_empty_file(dotenv_file_path_list):\n",
    "    created_dotenv_file_path = os.path.join(*(dotenv_file_path_list)) \n",
    "    os.makedirs(os.path.join(*(dotenv_file_path_list[:-1])), exist_ok=True)\n",
    "    pathlib.Path(created_dotenv_file_path).touch()\n",
    "    return created_dotenv_file_path\n",
    "\n",
    "dotenv_file_path = create_empty_file(DOTENV_FILE_PATH)\n",
    "sibling_docker_dotenv_file_path = create_empty_file(SIBLING_DOCKER_DOTENV_FILE_PATH)\n",
    "azure_ood_secrets_file_path = create_empty_file([azure_ood_secrets_file_dir]+ [azure_ood_secrets_file])\n",
    "azure_ood_resources_file_path = create_empty_file([azure_ood_resources_file_dir]+ [azure_ood_resources_file])\n",
    "\n",
    "\n",
    "# # show .env file path\n",
    "# !pwd\n",
    "dotenv_file_path\n",
    "sibling_docker_dotenv_file_path\n",
    "azure_ood_secrets_file_path"
   ]
  },
  {
   "cell_type": "markdown",
   "metadata": {},
   "source": [
    "<a id='dot_env_description'></a>\n",
    "##### 2. Input here sensitive and configuration information\n",
    "\n",
    "A [dotenv](https://github.com/theskumar/python-dotenv) file is used to store config info and hide sensitive info. \n",
    "  \n",
    "REQUIRED actions for the 2 cells below: \n",
    "- Input the required info in first cell below.  \n",
    "- Uncomment second cell below.  \n",
    "- Run both cells once. The sensitive information from first cell will be saved in the second cell in .env files (__dotenv_file_path__ and __sibling_docker_dotenv_file_path__) that should likely be git ignored. \n",
    "- after running next 2 cells once, second cell can be commmented. Future runs of this notebook will re-use the info saved in .env files.\n",
    "\n",
    "[Back](#user_input_requiring_steps) to list of repro steps."
   ]
  },
  {
   "cell_type": "code",
   "execution_count": 9,
   "metadata": {},
   "outputs": [],
   "source": [
    "control_plane_ACR= \"\" #e.g. \"control_plane_acr \n",
    "control_plane_ACR_uname=\"\"\n",
    "control_plane_ACR_password=\"\"\n",
    "\n",
    "dockerhub_login =  \"\"\n",
    "dockerhub_pwd = \"\"\n",
    "\n",
    "SUBSCRIPTION_ID=\"\"\n",
    "\n",
    "control_plane_docker_image_name = \"\" \n",
    "control_plane_docker_image_tag=\"\""
   ]
  },
  {
   "cell_type": "code",
   "execution_count": 10,
   "metadata": {},
   "outputs": [],
   "source": [
    "# dotenv.set_key(dotenv_file_path, 'CONTROL_PLANE_ACR', control_plane_ACR)\n",
    "# dotenv.set_key(dotenv_file_path, 'CONTROL_PLANE_ACR_USERNAME', control_plane_ACR_uname)\n",
    "# dotenv.set_key(dotenv_file_path, 'CONTROL_PLANE_ACR_PASSWORD', control_plane_ACR_password)\n",
    "\n",
    "\n",
    "# dotenv.set_key(dotenv_file_path, 'DOCKERHUB_LOGIN', dockerhub_login)\n",
    "# dotenv.set_key(dotenv_file_path, 'DOCKERHUB_PWD', dockerhub_pwd)\n",
    "\n",
    "# dotenv.set_key(dotenv_file_path, 'SUBSCRIPTION_ID', SUBSCRIPTION_ID)\n",
    "\n",
    "# dotenv.set_key(dotenv_file_path,'control_plane_docker_image_name', control_plane_docker_image_name)\n",
    "# dotenv.set_key(dotenv_file_path,'control_plane_docker_image_tag', control_plane_docker_image_tag)"
   ]
  },
  {
   "cell_type": "code",
   "execution_count": 11,
   "metadata": {},
   "outputs": [
    {
     "data": {
      "text/plain": [
       "True"
      ]
     },
     "execution_count": 11,
     "metadata": {},
     "output_type": "execute_result"
    },
    {
     "name": "stdout",
     "output_type": "stream",
     "text": [
      "docker_image_name fwi01acr.azurecr.io/azure_ood:latest\n",
      "docker_image_name_only azure_ood:latest\n",
      "docker_file_path ./azure_ood_temp_01/docker_files/Dockerfile_azure_ood_latest\n",
      "docker_build_dir control_plane_docker_build\n"
     ]
    }
   ],
   "source": [
    "dotenv.load_dotenv(dotenv_path=dotenv_file_path, override=True)\n",
    "\n",
    "# docker_files_dir = os.path.join(*(os.getcwd(), docker_files_dir))\n",
    "\n",
    "def create_docker_file(docker_file_dir, docker_build_dir, \n",
    "                       docker_image_name, docker_image_version, docker_repo_name):\n",
    "    if docker_image_version==\"\":\n",
    "        docker_image_version = 'latest'\n",
    "    \n",
    "    docker_file_name = 'Dockerfile'+ '_' + docker_image_name +'_'+ docker_image_version\n",
    "#     docker_file_dir = os.path.join(*([os.getcwd(), docker_file_base_dir]))\n",
    "    os.makedirs(docker_file_dir, exist_ok=True)\n",
    "    docker_file_path = os.path.join(*([docker_file_dir]+[docker_file_name]))\n",
    "    \n",
    "#     docker_build_dir = os.path.join(*([os.getcwd(), docker_build_base_dir]))\n",
    "    os.makedirs(docker_build_dir, exist_ok=True)\n",
    "\n",
    "    docker_image_name_only = docker_image_name +':'+ docker_image_version\n",
    "    docker_image_name = docker_repo_name + '.azurecr.io' + '/' + docker_image_name_only\n",
    "    \n",
    "    return_dict = {'docker_image_name': docker_image_name, \n",
    "            'docker_image_name_only': docker_image_name_only, \n",
    "            'docker_file_path': docker_file_path ,\n",
    "            'docker_build_dir': docker_build_dir}\n",
    "    [print(key, value) for key, value in return_dict.items()]\n",
    "\n",
    "    return return_dict\n",
    "\n",
    "docker_build_assets=create_docker_file(docker_files_dir, \n",
    "                                       control_plane_docker_build_dir,\n",
    "                                       os.getenv('control_plane_docker_image_name'),\n",
    "                                       os.getenv('control_plane_docker_image_tag'),\n",
    "                                       os.getenv('CONTROL_PLANE_ACR'))\n",
    "control_plane_docker_image_name=docker_build_assets['docker_image_name']\n",
    "control_plane_docker_image_name_only=docker_build_assets['docker_image_name_only']\n",
    "control_plane_docker_file_path=docker_build_assets['docker_file_path']\n",
    "control_plane_docker_build_dir=docker_build_assets['docker_build_dir']\n"
   ]
  },
  {
   "cell_type": "markdown",
   "metadata": {},
   "source": [
    "###### sibling_docker_dotenv_file_path points to a host dir.  \n",
    "This is different than pwd/os.getcwd() if this notebook runs in a container"
   ]
  },
  {
   "cell_type": "code",
   "execution_count": 12,
   "metadata": {},
   "outputs": [
    {
     "data": {
      "text/plain": [
       "True"
      ]
     },
     "execution_count": 12,
     "metadata": {},
     "output_type": "execute_result"
    },
    {
     "data": {
      "text/plain": [
       "'/datadrive01/prj/Azure-OnDemand/apps/devito'"
      ]
     },
     "execution_count": 12,
     "metadata": {},
     "output_type": "execute_result"
    }
   ],
   "source": [
    "dotenv.load_dotenv(dotenv_path=sibling_docker_dotenv_file_path)\n",
    "os.getenv('DOCKER_CONTAINER_MOUNT_POINT')"
   ]
  },
  {
   "cell_type": "code",
   "execution_count": 13,
   "metadata": {},
   "outputs": [
    {
     "name": "stdout",
     "output_type": "stream",
     "text": [
      "signed_in_az_cli__container01\r\n"
     ]
    }
   ],
   "source": [
    "!docker rm -f $az_cli_container"
   ]
  },
  {
   "cell_type": "markdown",
   "metadata": {},
   "source": [
    "#### Use mcr.microsoft.com/azure-cli to sign in\n",
    "Pull mcr docker image, and be prepared to use and then save it"
   ]
  },
  {
   "cell_type": "code",
   "execution_count": 14,
   "metadata": {},
   "outputs": [],
   "source": [
    "cli_base_command='(docker run '+ \\\n",
    "'-it '+ \\\n",
    "'--name ' + az_cli_container+ ' ' + \\\n",
    "'mcr.microsoft.com/azure-cli '+ \\\n",
    "'/bin/bash  -c ' \n",
    "internal_command = '\"'+ \\\n",
    "'apk update && apk add --update --no-cache  openrc docker-cli docker; '+ \\\n",
    "'rc-update add docker boot; '+ \\\n",
    "' az login; '+ \\\n",
    "' az account set --subscription '+os.getenv('SUBSCRIPTION_ID')+ '; '+ \\\n",
    "' az account list -o table; '+\\\n",
    "'\"; '+\\\n",
    "'docker commit '+az_cli_container + ' ' + signed_in_az_cli_image + ' ;'+ \\\n",
    "'docker rm -f '+ az_cli_container + ' ;'+ \\\n",
    "') '\n",
    "\n",
    "cli_command = cli_base_command+internal_command\n",
    "\n",
    "# cli_command"
   ]
  },
  {
   "cell_type": "markdown",
   "metadata": {},
   "source": [
    "<a id='Azure_cli_login'></a>\n",
    "##### 3. Login into Azure (interactively ) may be required in cell below\n",
    "Save signed in az cli docker container to a local docker image and re-use it if this notebook is run again.\n",
    "\n",
    "[Back](#user_input_requiring_steps) to list of repro steps."
   ]
  },
  {
   "cell_type": "markdown",
   "metadata": {},
   "source": [
    "###### Use local signed in az cli docker image, if exists."
   ]
  },
  {
   "cell_type": "code",
   "execution_count": 15,
   "metadata": {},
   "outputs": [
    {
     "name": "stdout",
     "output_type": "stream",
     "text": [
      "Found signed_in_az_cli_image docker image, will use it.\r\n"
     ]
    }
   ],
   "source": [
    "cli_command_base='docker image inspect '+ \\\n",
    "signed_in_az_cli_image+ ' ' + \\\n",
    " '>/dev/null 2>&1 && ' + \\\n",
    "'echo Found ' + signed_in_az_cli_image + ' docker image, will use it. ' + \\\n",
    "'|| ' +cli_command\n",
    "\n",
    "# cli_command_base\n",
    "!$cli_command_base"
   ]
  },
  {
   "cell_type": "code",
   "execution_count": 16,
   "metadata": {},
   "outputs": [
    {
     "name": "stdout",
     "output_type": "stream",
     "text": [
      "CONTAINER ID        IMAGE                    COMMAND                  CREATED             STATUS              PORTS                     NAMES\r\n",
      "3b5620df7fdc        continuumio/miniconda3   \"/bin/bash -c 'ls -l…\"   33 minutes ago      Up 33 minutes       0.0.0.0:10002->8888/tcp   miniconda3_container02\r\n"
     ]
    }
   ],
   "source": [
    "# mcr.microsoft.com/azure-cli container was started without rm option so it should show up as stopped\n",
    "!docker container ls -a"
   ]
  },
  {
   "cell_type": "markdown",
   "metadata": {},
   "source": [
    "<a id='az_cli_bash_script'></a>\n",
    "##### 4. (Optional) Edit azure_ood settings (azure_ood crtresourcegroup, cluster name, SP) in az cli  .sh file below\n",
    "Uses these environment variables: subscription_ID, azure_resources_prefix, azure_ood_secrets_file_path.   \n",
    "[Back](#user_input_requiring_steps) to list of repro steps."
   ]
  },
  {
   "cell_type": "code",
   "execution_count": 17,
   "metadata": {},
   "outputs": [
    {
     "name": "stdout",
     "output_type": "stream",
     "text": [
      "Overwriting ./azure_ood_temp_01/azure_ood_setup_resource_naming.sh\n"
     ]
    }
   ],
   "source": [
    "%%writefile $azure_ood_setup_resource_naming_script \n",
    "crtresourcegroup=\"${azure_resources_prefix}rsg\"\n",
    "crtstorageaccount=\"${azure_resources_prefix}sa\"\n",
    "\n",
    "azure_ood_slurm_cluster_name=\"${azure_resources_prefix}slrmclst001\"\n",
    "service_principal_name=\"${azure_resources_prefix}SP01\"\n",
    "location='southcentralus'"
   ]
  },
  {
   "cell_type": "code",
   "execution_count": 18,
   "metadata": {},
   "outputs": [
    {
     "name": "stdout",
     "output_type": "stream",
     "text": [
      "Overwriting ./azure_ood_temp_01/azure_ood_setup_step020.sh\n"
     ]
    }
   ],
   "source": [
    "%%writefile $azure_ood_setup_script_step020 \n",
    "# az login\n",
    "az account set --subscription \"$subscription_ID\"\n",
    "az account list --all --refresh -o table \n",
    "\n",
    "source \"$azure_ood_setup_resource_naming_script\"\n",
    "\n",
    "echo \"$crtresourcegroup\"\n",
    "echo \"$crtstorageaccount\"\n",
    "# echo \"$subscription_ID\"\n",
    "echo \"$service_principal_name\"\n",
    "\n",
    "az storage account list --resource-group \"$crtresourcegroup\"  -o tsv\n",
    "\n",
    "crt_aad_server_app_secret=$(az ad sp list --display-name \"$service_principal_name\" --query \"[].appId\" -o tsv)\n",
    "if [ -z \"$crt_aad_server_app_secret\" ]; then\n",
    "    az group create --name \"$crtresourcegroup\" --location \"$location\"\n",
    "    az group update -n \"$crtresourcegroup\" --set tags.'alias'='ghiordan' tags.'project'='Azure_Open_OnDemand_Devito_SLURM'  tags.'expires'='2022_12_30'\n",
    "\n",
    "    az acr create --resource-group \"$crtresourcegroup\" --name \"${azure_resources_prefix}acr\" --sku Basic\n",
    "    # az acr list --resource-group \"$crtresourcegroup\" --query \"[].{acrLoginServer:loginServer}\" --output table\n",
    "    az acr update -n \"${azure_resources_prefix}acr\" --admin-enabled true\n",
    "\n",
    "    acr_username=$(az acr credential show -n \"${azure_resources_prefix}acr\" --query \"username\"  -o tsv)\n",
    "    acr_password=$(az acr credential show -n \"${azure_resources_prefix}acr\" --query \"passwords[0].value\"  -o tsv)\n",
    "    \n",
    "    az storage account create -n \"$crtstorageaccount\" -g \"$crtresourcegroup\" -l \"$location\" --sku Standard_LRS --kind StorageV2\n",
    "    sa_key=$(az storage account keys list -g \"$crtresourcegroup\" -n \"$crtstorageaccount\" --query [0].value -o tsv)\n",
    "    #sa_conn_str=$(az storage account show-connection-string -n \"${crtstorageaccount}\" -g \"$crtresourcegroup\" --query connectionString --output tsv)\n",
    "\n",
    "\n",
    "    #SP contributor role is not enough to provision a cluster?\n",
    "    SP_output=$(az ad sp create-for-rbac \\\n",
    "        --name \"$service_principal_name\" \\\n",
    "        --role owner \\\n",
    "        --scopes /subscriptions/\"${subscription_ID}\"/resourceGroups/\"${crtresourcegroup}\")\n",
    "\n",
    "    crt_aad_server_app_secret=$(echo $SP_output |python3 -c \"import sys, json; print(json.load(sys.stdin)['password'])\")\n",
    "    # echo $crt_aad_server_app_secret\n",
    "\n",
    "    crt_aad_server_app_id=$(az ad sp list --display-name $service_principal_name --query \"[].appId\" -o tsv)\n",
    "    # echo $crt_aad_server_app_id\n",
    "\n",
    "    crt_aad_tenant_id=$(az account show --subscription \"${subscription_ID}\" --query \"tenantId\")\n",
    "    # echo $crt_aad_tenant_id\n",
    "\n",
    "\tcat <<-EOT > \"${azure_ood_secrets_file_path}\"\n",
    "\tAZURE_OOD_RESOURCES_PREFIX=\"${azure_resources_prefix}\"\n",
    "\tAZURE_OOD_ACR_NAME=\"${azure_resources_prefix}acr\"\n",
    "\tAZURE_OOD_ACR_USERNAME=\"${acr_username}\"\n",
    "\tAZURE_OOD_ACR_PASSWORD=\"${acr_password}\"\n",
    "\tAZURE_OOD_STORAGE_ACC_NAME=\"${crtstorageaccount}\"\n",
    "\tAZURE_OOD_STORAGE_ACC_KEY=\"${sa_key}\"\n",
    "\tAZURE_OOD_AAD_SP_NAME=\"${service_principal_name}\"\n",
    "\tAZURE_OOD_AAD_SP_APP_SECRET='${crt_aad_server_app_secret}'\n",
    "\tAZURE_OOD_AAD_SP_APP_ID=\"${crt_aad_server_app_id}\"\n",
    "\tAZURE_OOD_AAD_SP_TENANT_ID=${crt_aad_tenant_id}\n",
    "\tEOT\n",
    "    \n",
    "\tcat <<-EOT > \"${azure_ood_resources_file_path}\"\n",
    "\tdef get_azure_resorces():\n",
    "\t    azure_config  = dict();\n",
    "\t    azure_config['account_name'] = \"${crtstorageaccount}\"\n",
    "\t    azure_config['account_key'] = \"${sa_key}\"\n",
    "\t    return azure_config\n",
    "\tEOT\n",
    "\n",
    "else\n",
    "    echo \"Service Principal exists! will not recreate it, and neither the rsg, ACR and storage account.\"\n",
    "    # az ad sp delete --id \"$service_principal_name\" --only-show-errors\n",
    "fi\n"
   ]
  },
  {
   "cell_type": "code",
   "execution_count": 19,
   "metadata": {},
   "outputs": [
    {
     "name": "stdout",
     "output_type": "stream",
     "text": [
      "Error: No such container: signed_in_az_cli__container01\r\n"
     ]
    }
   ],
   "source": [
    "!docker rm -f $az_cli_container"
   ]
  },
  {
   "cell_type": "code",
   "execution_count": 20,
   "metadata": {},
   "outputs": [],
   "source": [
    "#do 'docker run -it ' if !$cli_command response is not captured  \n",
    "cli_base_command='docker run '+ \\\n",
    "'--rm '+ \\\n",
    "'--name ' + az_cli_container + ' ' + \\\n",
    "'-v '+ os.getenv('DOCKER_CONTAINER_MOUNT_POINT') +'/:/workspace:rw '+ \\\n",
    "'-v /var/run/docker.sock:/var/run/docker.sock '+ \\\n",
    "signed_in_az_cli_image + ' '+ \\\n",
    "'/bin/bash -c ' \n",
    "\n",
    "internal_command = '\"'+ \\\n",
    "'export subscription_ID=\"'+ os.getenv('SUBSCRIPTION_ID') +'\" \\n '+ \\\n",
    "'export azure_resources_prefix=\"'+ azure_ood_resources_prefix +'\" \\n '+ \\\n",
    "'export azure_ood_secrets_file_path=\\\"'+ os.path.join(*((['/workspace']+[azure_ood_secrets_file_path]))) +'\\\" \\n '+ \\\n",
    "'export azure_ood_resources_file_path=\\\"'+ os.path.join(*((['/workspace']+[azure_ood_resources_file_path]))) +'\\\" \\n '+ \\\n",
    "'export azure_ood_setup_resource_naming_script=\\\"'+ os.path.join(*((['/workspace']+\\\n",
    "                                                                    [azure_ood_setup_resource_naming_script]))) +'\\\" \\n '+ \\\n",
    "'/bin/bash ' + os.path.join(*(['/workspace']+[azure_ood_setup_script_step020])) +' '+ \\\n",
    "'\"'\n",
    "                              \n",
    "cli_command = cli_base_command+internal_command\n",
    "# cli_command"
   ]
  },
  {
   "cell_type": "code",
   "execution_count": 21,
   "metadata": {},
   "outputs": [],
   "source": [
    "response = !$cli_command"
   ]
  },
  {
   "cell_type": "code",
   "execution_count": 22,
   "metadata": {},
   "outputs": [],
   "source": [
    "# response"
   ]
  },
  {
   "cell_type": "code",
   "execution_count": 23,
   "metadata": {},
   "outputs": [
    {
     "data": {
      "text/plain": [
       "True"
      ]
     },
     "execution_count": 23,
     "metadata": {},
     "output_type": "execute_result"
    }
   ],
   "source": [
    "dotenv.load_dotenv(dotenv_path=azure_ood_secrets_file_path, override=True)\n",
    "# os.getenv('AZURE_OOD_ACR_USERNAME')\n",
    "# os.getenv('AZURE_OOD_ACR_PASSWORD')"
   ]
  },
  {
   "cell_type": "markdown",
   "metadata": {},
   "source": [
    "###### Use secrets file created above to login into acr and pull docker images if available\n"
   ]
  },
  {
   "cell_type": "code",
   "execution_count": 24,
   "metadata": {},
   "outputs": [
    {
     "name": "stdout",
     "output_type": "stream",
     "text": [
      "Error: No such container: signed_in_az_cli__container01\r\n"
     ]
    }
   ],
   "source": [
    "!docker rm -f $az_cli_container"
   ]
  },
  {
   "cell_type": "code",
   "execution_count": 25,
   "metadata": {},
   "outputs": [
    {
     "name": "stdout",
     "output_type": "stream",
     "text": [
      "Login Succeeded\n",
      "\u001b[33mWARNING! Your password will be stored unencrypted in /root/.docker/config.json.\n",
      "Configure a credential helper to remove this warning. See\n",
      "https://docs.docker.com/engine/reference/commandline/login/#credentials-store\u001b[0m\n",
      "\u001b[0mError response from daemon: manifest for fwi01acr.azurecr.io/azure_ood:latest not found: manifest unknown: manifest tagged by \"latest\" is not found\n"
     ]
    }
   ],
   "source": [
    "cli_base_command=' docker run ' +\\\n",
    "'-it '+\\\n",
    "'--name ' + az_cli_container+ ' ' + \\\n",
    "'-v '+ os.getenv('DOCKER_CONTAINER_MOUNT_POINT') +'/:/workspace:rw '+ \\\n",
    "'-v /var/run/docker.sock:/var/run/docker.sock '+ \\\n",
    "signed_in_az_cli_image+ ' '+\\\n",
    "'/bin/bash  -c ' \n",
    "\n",
    "internal_command = '\"'+ \\\n",
    "' : az account list -o table; '+\\\n",
    "'az acr login --name '+os.getenv('CONTROL_PLANE_ACR')+ \\\n",
    "' --username '+os.getenv('CONTROL_PLANE_ACR_USERNAME')+ \\\n",
    "' --password ' + os.getenv('CONTROL_PLANE_ACR_PASSWORD')+'; '+\\\n",
    "'docker pull '+control_plane_docker_image_name+'; '+\\\n",
    "'\"'\n",
    "\n",
    "cli_command = cli_base_command+internal_command\n",
    "\n",
    "# cli_command\n",
    "!$cli_command"
   ]
  },
  {
   "cell_type": "code",
   "execution_count": 26,
   "metadata": {},
   "outputs": [
    {
     "name": "stdout",
     "output_type": "stream",
     "text": [
      "Overwriting ./azure_ood_temp_01/docker_files/Dockerfile_azure_ood_latest\n"
     ]
    }
   ],
   "source": [
    "%%writefile $control_plane_docker_file_path \n",
    "\n",
    "# https://hub.docker.com/r/microsoft/azure-cli/dockerfile   \n",
    "FROM debian:latest \n",
    "MAINTAINER George Iordanescu <ghiordan@microsoft.com>\n",
    "\n",
    "# os updates\n",
    "RUN apt-get update --fix-missing && apt-get install -y --no-install-recommends \\\n",
    "    ca-certificates curl wget apt-transport-https lsb-release gnupg \\\n",
    "    python3-pip \\\n",
    "    git && \\\n",
    "    apt-get clean && \\\n",
    "    rm -rf /var/lib/apt/lists/*  \n",
    "\n",
    "\n",
    "#https://docs.docker.com/compose/install/\n",
    "RUN curl -L \"https://github.com/docker/compose/releases/download/1.25.5/docker-compose-$(uname -s)-$(uname -m)\" \\\n",
    "    -o /usr/local/bin/docker-compose && \\\n",
    "    chmod +x /usr/local/bin/docker-compose && \\\n",
    "    echo $(docker-compose --version)\n",
    "#     ln -s /usr/local/bin/docker-compose /usr/bin/docker-compose && \\\n",
    "#     curl -L https://raw.githubusercontent.com/docker/compose/1.25.5/contrib/completion/bash/docker-compose \\\n",
    "#     -o /etc/bash_completion.d/docker-compose\n",
    "\n",
    "RUN pip3 install -U python-dotenv \n",
    "\n",
    "# https://docs.microsoft.com/en-us/cli/azure/install-azure-cli-apt?view=azure-cli-latest#no-package-for-your-distribution\n",
    "# ENV AZ_CLI_REPO=stretch \n",
    "RUN echo \"deb [arch=amd64] https://packages.microsoft.com/repos/azure-cli/ $(lsb_release -sc) main\" | \\\n",
    "    tee /etc/apt/sources.list.d/azure-cli.list && \\\n",
    "    curl -L https://packages.microsoft.com/keys/microsoft.asc | apt-key add - && \\\n",
    "    apt-get update && \\\n",
    "    apt-get install -y --no-install-recommends \\\n",
    "    azure-cli  && \\\n",
    "    apt-get clean && \\\n",
    "    rm -rf /var/lib/apt/lists/*\n",
    "\n",
    "#clone devito repo\n",
    "RUN git clone https://github.com/devitocodes/devito.git && cd devito && git checkout c1c8caf\n",
    "RUN git clone https://github.com/devitocodes/daks.git\n",
    "    \n",
    "RUN git clone https://github.com/Azure/azurehpc.git && \\\n",
    "    azurehpc/install.sh &&\\\n",
    "    chmod -R ugo=rwx azurehpc \n",
    "    \n",
    "RUN git clone https://github.com/edwardsp/Azure-OnDemand.git\n",
    "\n",
    "ENV PATH=azurehpc/bin:$PATH"
   ]
  },
  {
   "cell_type": "code",
   "execution_count": 27,
   "metadata": {},
   "outputs": [
    {
     "data": {
      "text/plain": [
       "'docker build -t fwi01acr.azurecr.io/azure_ood:latest -f ./azure_ood_temp_01/docker_files/Dockerfile_azure_ood_latest control_plane_docker_build  '"
      ]
     },
     "execution_count": 27,
     "metadata": {},
     "output_type": "execute_result"
    }
   ],
   "source": [
    "cli_command='docker build -t '+ control_plane_docker_image_name + \\\n",
    "' -f ' + control_plane_docker_file_path + \\\n",
    "' ' + control_plane_docker_build_dir + ' ' +\\\n",
    "docker_build_no_cache  + ' ' \n",
    "\n",
    "cli_command"
   ]
  },
  {
   "cell_type": "code",
   "execution_count": 28,
   "metadata": {},
   "outputs": [
    {
     "name": "stdout",
     "output_type": "stream",
     "text": [
      "Sending build context to Docker daemon  3.119kB\n",
      "Step 1/11 : FROM debian:latest\n",
      " ---> ae8514941ea4\n",
      "Step 2/11 : MAINTAINER George Iordanescu <ghiordan@microsoft.com>\n",
      " ---> Using cache\n",
      " ---> 0fd1613f99f6\n",
      "Step 3/11 : RUN apt-get update --fix-missing && apt-get install -y --no-install-recommends     ca-certificates curl wget apt-transport-https lsb-release gnupg     python3-pip     git &&     apt-get clean &&     rm -rf /var/lib/apt/lists/*\n",
      " ---> Using cache\n",
      " ---> 7cd7b7dfdd99\n",
      "Step 4/11 : RUN curl -L \"https://github.com/docker/compose/releases/download/1.25.5/docker-compose-$(uname -s)-$(uname -m)\"     -o /usr/local/bin/docker-compose &&     chmod +x /usr/local/bin/docker-compose &&     echo $(docker-compose --version)\n",
      " ---> Using cache\n",
      " ---> fef982a946b0\n",
      "Step 5/11 : RUN pip3 install -U python-dotenv\n",
      " ---> Using cache\n",
      " ---> 055eda2ff394\n",
      "Step 6/11 : RUN echo \"deb [arch=amd64] https://packages.microsoft.com/repos/azure-cli/ $(lsb_release -sc) main\" |     tee /etc/apt/sources.list.d/azure-cli.list &&     curl -L https://packages.microsoft.com/keys/microsoft.asc | apt-key add - &&     apt-get update &&     apt-get install -y --no-install-recommends     azure-cli  &&     apt-get clean &&     rm -rf /var/lib/apt/lists/*\n",
      " ---> Using cache\n",
      " ---> 8f8f6eae11c2\n",
      "Step 7/11 : RUN git clone https://github.com/devitocodes/devito.git && cd devito && git checkout c1c8caf\n",
      " ---> Using cache\n",
      " ---> 1e9fa4a7a283\n",
      "Step 8/11 : RUN git clone https://github.com/devitocodes/daks.git\n",
      " ---> Using cache\n",
      " ---> a18301dd3638\n",
      "Step 9/11 : RUN git clone https://github.com/Azure/azurehpc.git &&     azurehpc/install.sh &&    chmod -R ugo=rwx azurehpc\n",
      " ---> Using cache\n",
      " ---> b63ba4aa9914\n",
      "Step 10/11 : RUN git clone https://github.com/edwardsp/Azure-OnDemand.git\n",
      " ---> Using cache\n",
      " ---> 0b720837f542\n",
      "Step 11/11 : ENV PATH=azurehpc/bin:$PATH\n",
      " ---> Using cache\n",
      " ---> 4e84ab6703e0\n",
      "Successfully built 4e84ab6703e0\n",
      "Successfully tagged fwi01acr.azurecr.io/azure_ood:latest\n"
     ]
    }
   ],
   "source": [
    "! $cli_command"
   ]
  },
  {
   "cell_type": "code",
   "execution_count": 29,
   "metadata": {},
   "outputs": [],
   "source": [
    "# docker run -it \\\n",
    "# --rm --name azure_ood_container01 \\\n",
    "# -v /datadrive01/prj/Azure-OnDemand/apps/:/workspace:rw \\\n",
    "# -v /usr/bin/docker:/usr/bin/docker \\\n",
    "# -v /var/run/docker.sock:/var/run/docker.sock \\\n",
    "# fwi01acr.azurecr.io/azure_ood:latest \\\n",
    "# /bin/bash"
   ]
  }
 ],
 "metadata": {
  "kernelspec": {
   "display_name": "Python [conda env:azure_ood_devito_control_plane_conda_env01] *",
   "language": "python",
   "name": "conda-env-azure_ood_devito_control_plane_conda_env01-py"
  },
  "language_info": {
   "codemirror_mode": {
    "name": "ipython",
    "version": 3
   },
   "file_extension": ".py",
   "mimetype": "text/x-python",
   "name": "python",
   "nbconvert_exporter": "python",
   "pygments_lexer": "ipython3",
   "version": "3.7.7"
  }
 },
 "nbformat": 4,
 "nbformat_minor": 4
}
